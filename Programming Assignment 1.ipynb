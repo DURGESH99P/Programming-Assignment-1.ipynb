{
 "cells": [
  {
   "cell_type": "markdown",
   "id": "bb50d5cd",
   "metadata": {},
   "source": [
    "# Programming Assignment 1"
   ]
  },
  {
   "cell_type": "markdown",
   "id": "d6579c69",
   "metadata": {},
   "source": [
    "### 1. Write a Python program to print \"Hello Python\"?"
   ]
  },
  {
   "cell_type": "code",
   "execution_count": 1,
   "id": "46b25ad6",
   "metadata": {},
   "outputs": [
    {
     "name": "stdout",
     "output_type": "stream",
     "text": [
      "Hello Python\n"
     ]
    }
   ],
   "source": [
    "print(\"Hello Python\")"
   ]
  },
  {
   "cell_type": "markdown",
   "id": "766eae00",
   "metadata": {},
   "source": [
    "### 2. Write a Python program to do arithmetical operations addition and division.?"
   ]
  },
  {
   "cell_type": "code",
   "execution_count": 2,
   "id": "7538658c",
   "metadata": {},
   "outputs": [
    {
     "name": "stdout",
     "output_type": "stream",
     "text": [
      "enter num 1 :\n",
      "10\n",
      "enter num 2 :\n",
      "5\n",
      "addition of two numbers is :\n",
      "15 \n",
      "division of two numbers is :\n",
      "2.0\n"
     ]
    }
   ],
   "source": [
    "num1 = int(input(\"enter num 1 :\\n\"))\n",
    "num2 = int(input(\"enter num 2 :\\n\"))\n",
    "add = num1+num2\n",
    "divide = num1/num2\n",
    "print(f\"addition of two numbers is :\\n{add} \")\n",
    "print(f\"division of two numbers is :\\n{divide}\")"
   ]
  },
  {
   "cell_type": "markdown",
   "id": "6029bac9",
   "metadata": {},
   "source": [
    "### 3. Write a Python program to find the area of a triangle?"
   ]
  },
  {
   "cell_type": "code",
   "execution_count": 3,
   "id": "6049db65",
   "metadata": {},
   "outputs": [
    {
     "name": "stdout",
     "output_type": "stream",
     "text": [
      "input base of triangle :\n",
      "10\n",
      "input height of triangle :\n",
      "20\n",
      "Area of Triangle is :\n",
      "100.0\n"
     ]
    }
   ],
   "source": [
    "base = int(input(\"input base of triangle :\\n\"))\n",
    "height = int(input(\"input height of triangle :\\n\"))\n",
    "Area_of_Triangle = 0.5*base*height\n",
    "print(f\"Area of Triangle is :\\n{Area_of_Triangle}\")"
   ]
  },
  {
   "cell_type": "markdown",
   "id": "632252f6",
   "metadata": {},
   "source": [
    "### 4. Write a Python program to swap two variables?"
   ]
  },
  {
   "cell_type": "code",
   "execution_count": 4,
   "id": "04c778c2",
   "metadata": {},
   "outputs": [
    {
     "name": "stdout",
     "output_type": "stream",
     "text": [
      "Enter value of x: 5\n",
      "Enter value of y: 10\n",
      "The value of x after swapping: 10\n",
      "The value of y after swapping: 5\n"
     ]
    }
   ],
   "source": [
    "x = input('Enter value of x: ')\n",
    "y = input('Enter value of y: ')\n",
    "\n",
    "# creating a temporary variable and swapping the values with\n",
    "temp = x\n",
    "x = y\n",
    "y = temp\n",
    "\n",
    "print('The value of x after swapping: {}'.format(x))\n",
    "print('The value of y after swapping: {}'.format(y))"
   ]
  },
  {
   "cell_type": "markdown",
   "id": "a8359127",
   "metadata": {},
   "source": [
    "### 5. Write a Python program to generate a random number ?"
   ]
  },
  {
   "cell_type": "code",
   "execution_count": 5,
   "id": "5e735f85",
   "metadata": {},
   "outputs": [
    {
     "name": "stdout",
     "output_type": "stream",
     "text": [
      "specify the range of numbers from which you want to generate random numbers\n",
      "starting number of range :\n",
      "20\n",
      "ending number of range :\n",
      "30\n",
      "random number generated is :\n",
      "29\n"
     ]
    }
   ],
   "source": [
    "import random\n",
    "print('specify the range of numbers from which you want to generate random numbers')\n",
    "a = int(input(\"starting number of range :\\n\"))\n",
    "b = int(input(\"ending number of range :\\n\"))\n",
    "print(f\"random number generated is :\\n{random.randint(a,b)}\")"
   ]
  }
 ],
 "metadata": {
  "kernelspec": {
   "display_name": "Python 3 (ipykernel)",
   "language": "python",
   "name": "python3"
  },
  "language_info": {
   "codemirror_mode": {
    "name": "ipython",
    "version": 3
   },
   "file_extension": ".py",
   "mimetype": "text/x-python",
   "name": "python",
   "nbconvert_exporter": "python",
   "pygments_lexer": "ipython3",
   "version": "3.8.10"
  }
 },
 "nbformat": 4,
 "nbformat_minor": 5
}
